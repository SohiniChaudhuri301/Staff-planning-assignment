{
 "cells": [
  {
   "cell_type": "code",
   "execution_count": 5,
   "metadata": {},
   "outputs": [],
   "source": [
    "# Importing Libraries \n",
    "\n",
    "import pandas as pd\n",
    "import numpy as np\n",
    "import math\n",
    "from pyomo.environ import *"
   ]
  },
  {
   "cell_type": "code",
   "execution_count": 6,
   "metadata": {},
   "outputs": [],
   "source": [
    "from __future__ import division\n",
    "from pyomo.opt import SolverFactory"
   ]
  },
  {
   "cell_type": "code",
   "execution_count": 9,
   "metadata": {},
   "outputs": [
    {
     "data": {
      "text/html": [
       "<div>\n",
       "<style scoped>\n",
       "    .dataframe tbody tr th:only-of-type {\n",
       "        vertical-align: middle;\n",
       "    }\n",
       "\n",
       "    .dataframe tbody tr th {\n",
       "        vertical-align: top;\n",
       "    }\n",
       "\n",
       "    .dataframe thead th {\n",
       "        text-align: right;\n",
       "    }\n",
       "</style>\n",
       "<table border=\"1\" class=\"dataframe\">\n",
       "  <thead>\n",
       "    <tr style=\"text-align: right;\">\n",
       "      <th></th>\n",
       "      <th>State</th>\n",
       "      <th>Month</th>\n",
       "      <th>Demand</th>\n",
       "    </tr>\n",
       "  </thead>\n",
       "  <tbody>\n",
       "    <tr>\n",
       "      <th>0</th>\n",
       "      <td>A</td>\n",
       "      <td>Jan</td>\n",
       "      <td>5240</td>\n",
       "    </tr>\n",
       "    <tr>\n",
       "      <th>1</th>\n",
       "      <td>A</td>\n",
       "      <td>Feb</td>\n",
       "      <td>4878</td>\n",
       "    </tr>\n",
       "    <tr>\n",
       "      <th>2</th>\n",
       "      <td>A</td>\n",
       "      <td>Mar</td>\n",
       "      <td>5942</td>\n",
       "    </tr>\n",
       "    <tr>\n",
       "      <th>3</th>\n",
       "      <td>A</td>\n",
       "      <td>Apr</td>\n",
       "      <td>2297</td>\n",
       "    </tr>\n",
       "    <tr>\n",
       "      <th>4</th>\n",
       "      <td>A</td>\n",
       "      <td>May</td>\n",
       "      <td>1992</td>\n",
       "    </tr>\n",
       "  </tbody>\n",
       "</table>\n",
       "</div>"
      ],
      "text/plain": [
       "  State Month  Demand\n",
       "0     A   Jan    5240\n",
       "1     A   Feb    4878\n",
       "2     A   Mar    5942\n",
       "3     A   Apr    2297\n",
       "4     A   May    1992"
      ]
     },
     "execution_count": 9,
     "metadata": {},
     "output_type": "execute_result"
    }
   ],
   "source": [
    "# Reading the data from Excel workbook\n",
    "\n",
    "data = pd.read_excel('Staffing+Data.xlsx')\n",
    "data.head(5)"
   ]
  },
  {
   "cell_type": "markdown",
   "metadata": {},
   "source": [
    "## Data pre-processing "
   ]
  },
  {
   "cell_type": "code",
   "execution_count": null,
   "metadata": {},
   "outputs": [],
   "source": [
    "# Create the required Python data structures for indexes and parameters\n",
    "# Define Month (1 week)\n",
    "Month = ['Jan', 'Feb', 'Mar', 'Apr', 'May', 'Jun', 'Jul', 'Aug', 'Sep', 'Oct', 'Nov', 'Dec']\n",
    "\n",
    "# Define States\n",
    "State = ['A', 'B', 'C']"
   ]
  },
  {
   "cell_type": "markdown",
   "metadata": {},
   "source": [
    "# Question 1\n",
    "\n",
    "The company wants to know the optimised staffing recommendations for the business case described. \n",
    "Write the mathematical model for the deterministic optimisation problem. Define and explain your decision variables, objective function and the constraint. (Hint: Use months of the year as the model timeline).\n",
    "\n"
   ]
  },
  {
   "cell_type": "code",
   "execution_count": null,
   "metadata": {},
   "outputs": [],
   "source": [
    "# Enter shifts of each day\n",
    "shifts = ['morning', 'evening', 'night']  # 3 shifts of 8 hours\n",
    "\n",
    "Months_shifts = {Month: shifts for Month in Months}  # dict with day as key and list of its shifts as value\n",
    "\n",
    "# Enter workers ids (name, number, ...)\n",
    "workers = ['W' + str(i) for i in range(1, 11)]  # 10 workers available, more than needed"
   ]
  },
  {
   "cell_type": "markdown",
   "metadata": {},
   "source": [
    "**Note:** You can write the mathematical formulation directly in your report."
   ]
  },
  {
   "cell_type": "markdown",
   "metadata": {},
   "source": [
    "# Question 2\n",
    "\n",
    "Code the problem is Python and use any optimization package to solve it. Add comments to your code to explain each step. "
   ]
  },
  {
   "cell_type": "markdown",
   "metadata": {},
   "source": [
    "#### Expected output:\n",
    "\n",
    "Create a data frame containing the number of outsourced applications  and the number of FTEs for each state-month combination. You can choose to have extra columns like staff availability, demand etc. in your dataframe apart from the ones mentioned earlier. "
   ]
  },
  {
   "cell_type": "code",
   "execution_count": null,
   "metadata": {},
   "outputs": [],
   "source": [
    "# Creating a model instance\n",
    "\n",
    "# Initialize model\n",
    "model = ConcreteModel()\n",
    "\n",
    "# binary variables representing if a worker is scheduled somewhere\n",
    "model.works = Var(((worker, Month, State, shifts) for worker in workers for Month in Months for shift in Months_shifts[Month]),\n",
    "                  within=Binary, initialize=0)\n",
    "\n",
    "# binary variables representing if a worker is necessary\n",
    "model.needed = Var(workers, within=Binary, initialize=0)\n",
    "\n",
    "# binary variables representing if a worker worked on sunday but not on saturday (avoid if possible)\n",
    "model.no_pref = Var(workers, within=Binary, initialize=0)"
   ]
  },
  {
   "cell_type": "code",
   "execution_count": null,
   "metadata": {},
   "outputs": [],
   "source": [
    "# Define Pyomo sets and Parameters\n",
    "# Define an objective function with model as input, to pass later\n",
    "def obj_rule(m):\n",
    "    c = len(workers)\n",
    "    return sum(m.no_pref[worker] for worker in workers) + sum(c * m.needed[worker] for worker in workers)"
   ]
  },
  {
   "cell_type": "code",
   "execution_count": null,
   "metadata": {},
   "outputs": [],
   "source": [
    "# Decision variables\n",
    "\n",
    "# add objective function to the model. rule (pass function) or expr (pass expression directly)\n",
    "model.obj = Objective(rule=obj_rule, sense=minimize)"
   ]
  },
  {
   "cell_type": "code",
   "execution_count": null,
   "metadata": {},
   "outputs": [],
   "source": [
    "# Constraints\n",
    "\n",
    "model.constraints = ConstraintList()  # Create a set of constraints\n",
    "\n",
    "# Constraint: all shifts are assigned\n",
    "for day in days:\n",
    "    for shift in days_shifts[day]:\n",
    "        if day in days[:-1] and shift in ['morning', 'evening']:\n",
    "            # weekdays' and Saturdays' day shifts have exactly two workers\n",
    "            model.constraints.add(  # to add a constraint to model.constraints set\n",
    "                2 == sum(model.works[worker, day, shift] for worker in workers)\n",
    "            )\n",
    "        else:\n",
    "            # Sundays' and nights' shifts have exactly one worker\n",
    "            model.constraints.add(\n",
    "                1 == sum(model.works[worker, day, shift] for worker in workers)\n",
    "            )\n",
    "\n",
    "# Constraint: no more than 40 hours worked\n",
    "for worker in workers:\n",
    "    model.constraints.add(\n",
    "        40 >= sum(8 * model.works[worker, day, shift] for day in days for shift in days_shifts[day])\n",
    "    )\n",
    "\n",
    "# Constraint: rest between two shifts is of 12 hours (i.e., at least two shifts)\n",
    "for worker in workers:\n",
    "    for j in range(len(days)):\n",
    "        # if working in morning, cannot work again that day\n",
    "        model.constraints.add(\n",
    "            1 >= sum(model.works[worker, days[j], shift] for shift in days_shifts[days[j]])\n",
    "        )\n",
    "        # if working in evening, until next evening (note that after sunday comes next monday)\n",
    "        model.constraints.add(\n",
    "            1 >= sum(model.works[worker, days[j], shift] for shift in ['evening', 'night']) +\n",
    "            model.works[worker, days[(j + 1) % 7], 'morning']\n",
    "        )\n",
    "        # if working in night, until next night\n",
    "        model.constraints.add(\n",
    "            1 >= model.works[worker, days[j], 'night'] +\n",
    "            sum(model.works[worker, days[(j + 1) % 7], shift] for shift in ['morning', 'evening'])\n",
    "        )\n",
    "\n",
    "# Constraint (def of model.needed)\n",
    "for worker in workers:\n",
    "    model.constraints.add(\n",
    "        10000 * model.needed[worker] >= sum(model.works[worker, day, shift] for day in days for shift in days_shifts[day])\n",
    "    )  # if any model.works[worker, ·, ·] non-zero, model.needed[worker] must be one; else is zero to reduce the obj function\n",
    "    # 10000 is to remark, but 5 was enough since max of 40 hours yields max of 5 shifts, the maximum possible sum\n",
    "\n",
    "# Constraint (def of model.no_pref)\n",
    "for worker in workers:\n",
    "    model.constraints.add(\n",
    "        model.no_pref[worker] >= sum(model.works[worker, 'Sat', shift] for shift in days_shifts['Sat'])\n",
    "        - sum(model.works[worker, 'Sun', shift] for shift in days_shifts['Sun'])\n",
    "    )  # if not working on sunday but working saturday model.needed must be 1; else will be zero to reduce the obj function\n"
   ]
  },
  {
   "cell_type": "code",
   "execution_count": null,
   "metadata": {},
   "outputs": [],
   "source": [
    "# Objective function\n",
    "opt = SolverFactory('cbc')  # choose a solver\n",
    "results = opt.solve(model)  # solve the model with the selected solver"
   ]
  },
  {
   "cell_type": "code",
   "execution_count": null,
   "metadata": {},
   "outputs": [],
   "source": [
    "# Invoking the solver\n",
    "opt = SolverFactory('cbc')  # Select solver\n",
    "solver_manager = SolverManagerFactory('neos')  # Solve in neos server\n",
    "results = solver_manager.solve(model, opt=opt)"
   ]
  },
  {
   "cell_type": "code",
   "execution_count": null,
   "metadata": {},
   "outputs": [],
   "source": [
    "# Print the value of the objective function\n",
    "def get_workers_needed(needed):\n",
    "    \"\"\"Extract to a list the needed workers for the optimal solution.\"\"\"\n",
    "    workers_needed = []\n",
    "    for worker in workers:\n",
    "        if needed[worker].value == 1:\n",
    "            workers_needed.append(worker)\n",
    "    return workers_needed\n",
    "\n",
    "\n",
    "def get_work_table(works):\n",
    "    \"\"\"Build a timetable of the week as a dictionary from the model's optimal solution.\"\"\"\n",
    "    week_table = {day: {shift: [] for shift in days_shifts[day]} for day in days}\n",
    "    for worker in workers:\n",
    "        for day in days:\n",
    "            for shift in days_shifts[day]:\n",
    "                    if works[worker, day, shift].value == 1:\n",
    "                        week_table[day][shift].append(worker)\n",
    "    return week_table\n",
    "\n",
    "\n",
    "def get_no_preference(no_pref):\n",
    "    \"\"\"Extract to a list the workers not satisfied with their weekend preference.\"\"\"\n",
    "    return [worker for worker in workers if no_pref[worker].value == 1]\n",
    "\n",
    "\n",
    "workers_needed = get_workers_needed(model.needed)  # dict with the optimal timetable\n",
    "week_table = get_work_table(model.works)  # list with the required workers\n",
    "workers_no_pref = get_no_preference(model.no_pref)  # list with the non-satisfied workers (work on Sat but not on Sun)\n"
   ]
  },
  {
   "cell_type": "markdown",
   "metadata": {},
   "source": [
    "**`Checkpoint 1:`** Seems like the company has to spend around 17.9 m$ in total for the application approval process."
   ]
  },
  {
   "cell_type": "code",
   "execution_count": null,
   "metadata": {},
   "outputs": [],
   "source": [
    "# Writing the results in to an Excel sheet\n",
    "\n",
    "{\n",
    "  \"Mon\": {\n",
    "    \"morning\": [\n",
    "      \"W5\",\n",
    "      \"W8\"\n",
    "    ],\n",
    "    \"evening\": [\n",
    "      \"W6\",\n",
    "      \"W7\"\n",
    "    ],\n",
    "    \"night\": [\n",
    "      \"W9\"\n",
    "    ]\n",
    "  },\n",
    "  \"Tue\": {\n",
    "    \"morning\": [\n",
    "      \"W5\",\n",
    "      \"W8\"\n",
    "    ],\n",
    "    \"evening\": [\n",
    "      \"W1\",\n",
    "      \"W7\"\n",
    "    ],\n",
    "    \"night\": [\n",
    "      \"W9\"\n",
    "    ]\n",
    "  },\n",
    "  \"Wed\": {\n",
    "    \"morning\": [\n",
    "      \"W5\",\n",
    "      \"W10\"\n",
    "    ],\n",
    "    \"evening\": [\n",
    "      \"W6\",\n",
    "      \"W7\"\n",
    "    ],\n",
    "    \"night\": [\n",
    "      \"W9\"\n",
    "    ]\n",
    "  },\n",
    "  \"Thu\": {\n",
    "    \"morning\": [\n",
    "      \"W1\",\n",
    "      \"W5\"\n",
    "    ],\n",
    "    \"evening\": [\n",
    "      \"W7\",\n",
    "      \"W8\"\n",
    "    ],\n",
    "    \"night\": [\n",
    "      \"W6\"\n",
    "    ]\n",
    "  },\n",
    "  \"Fri\": {\n",
    "    \"morning\": [\n",
    "      \"W1\",\n",
    "      \"W5\"\n",
    "    ],\n",
    "    \"evening\": [\n",
    "      \"W7\",\n",
    "      \"W10\"\n",
    "    ],\n",
    "    \"night\": [\n",
    "      \"W6\"\n",
    "    ]\n",
    "  },\n",
    "  \"Sat\": {\n",
    "    \"morning\": [\n",
    "      \"W8\",\n",
    "      \"W9\"\n",
    "    ],\n",
    "    \"evening\": [\n",
    "      \"W1\",\n",
    "      \"W10\"\n",
    "    ],\n",
    "    \"night\": [\n",
    "      \"W6\"\n",
    "    ]\n",
    "  },\n",
    "  \"Sun\": {\n",
    "    \"morning\": [\n",
    "      \"W8\"\n",
    "    ],\n",
    "    \"evening\": [\n",
    "      \"W10\"\n",
    "    ],\n",
    "    \"night\": [\n",
    "      \"W1\"\n",
    "    ]\n",
    "  }\n",
    "}\n"
   ]
  },
  {
   "cell_type": "code",
   "execution_count": null,
   "metadata": {},
   "outputs": [],
   "source": []
  }
 ],
 "metadata": {
  "kernelspec": {
   "display_name": "Python 3",
   "language": "python",
   "name": "python3"
  },
  "language_info": {
   "codemirror_mode": {
    "name": "ipython",
    "version": 3
   },
   "file_extension": ".py",
   "mimetype": "text/x-python",
   "name": "python",
   "nbconvert_exporter": "python",
   "pygments_lexer": "ipython3",
   "version": "3.7.1"
  }
 },
 "nbformat": 4,
 "nbformat_minor": 2
}
